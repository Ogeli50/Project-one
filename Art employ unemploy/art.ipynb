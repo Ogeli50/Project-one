{
 "cells": [
  {
   "cell_type": "code",
   "execution_count": 5,
   "metadata": {},
   "outputs": [
    {
     "name": "stdout",
     "output_type": "stream",
     "text": [
      "2018 Employed:\n",
      "Value (Column 2): 176,976\n",
      "Value (Column 3): 59.60%\n",
      "\n",
      "2018 Unemployed:\n",
      "Value (Column 2): 9,803\n",
      "Value (Column 3): 3.30%\n",
      "\n",
      "2022 Employed:\n",
      "Value (Column 2): 204,714\n",
      "Value (Column 3): 62.50%\n",
      "\n",
      "2022 Unemployed:\n",
      "Value (Column 2): 8,954\n",
      "Value (Column 3): 2.70%\n",
      "\n"
     ]
    }
   ],
   "source": [
    "import pandas as pd\n",
    "import matplotlib.pyplot as plt\n",
    "\n",
    "# Study & read data files\n",
    "employ_18 = pd.read_csv(\"../data/employment2018.csv\")\n",
    "employ_22 = pd.read_csv(\"../data/employment2022.csv\")\n",
    "\n",
    "employ_18['Label (Grouping)'] = employ_18['Label (Grouping)'].str.replace('\\xa0', '').str.strip()\n",
    "employ_22['Label (Grouping)'] = employ_22['Label (Grouping)'].str.replace('\\xa0', '').str.strip()\n",
    "\n",
    "arts_points_2018 = {\n",
    "    \"Employed\": {},\n",
    "    \"Unemployed\": {}\n",
    "}\n",
    "\n",
    "arts_points_2022 = {\n",
    "    \"Employed\": {},\n",
    "    \"Unemployed\": {}}\n",
    "\n",
    "for point in arts_points_2018:\n",
    "    # Find the index of the row containing the point\n",
    "    index = employ_18[employ_18['Label (Grouping)'] == point].index\n",
    "    if not index.empty:\n",
    "        index = index[0]\n",
    "        # Get the values from columns 2 and 3\n",
    "        value_col2 = employ_18.iloc[index, 1]\n",
    "        value_col3 = employ_18.iloc[index, 2]\n",
    "        # Add the point and its values to the dictionary\n",
    "        arts_points_2018[point] = {\"Value (Column 2)\": value_col2, \"Value (Column 3)\": value_col3}\n",
    "\n",
    "for point, values in arts_points_2018.items():\n",
    "    print(f\"2018 {point}:\")\n",
    "    print(\"Value (Column 2):\", values[\"Value (Column 2)\"])\n",
    "    print(\"Value (Column 3):\", values[\"Value (Column 3)\"])\n",
    "    print()\n",
    "\n",
    "\n",
    "for point in arts_points_2022:\n",
    "    # Find the index of the row containing the point\n",
    "    index = employ_22[employ_22['Label (Grouping)'] == point].index\n",
    "    if not index.empty:\n",
    "        index = index[0]\n",
    "        # Get the values from columns 2 and 3\n",
    "        value_col2 = employ_22.iloc[index, 1]\n",
    "        value_col3 = employ_22.iloc[index, 2]\n",
    "        # Add the point and its values to the dictionary\n",
    "        arts_points_2022[point] = {\"Value (Column 2)\": value_col2, \"Value (Column 3)\": value_col3}\n",
    "\n",
    "for point, values in arts_points_2022.items():\n",
    "    print(f\"2022 {point}:\")\n",
    "    print(\"Value (Column 2):\", values[\"Value (Column 2)\"])\n",
    "    print(\"Value (Column 3):\", values[\"Value (Column 3)\"])\n",
    "    print()"
   ]
  },
  {
   "cell_type": "code",
   "execution_count": null,
   "metadata": {},
   "outputs": [],
   "source": [
    "\n",
    "data_18 = "
   ]
  },
  {
   "cell_type": "code",
   "execution_count": null,
   "metadata": {},
   "outputs": [],
   "source": []
  }
 ],
 "metadata": {
  "kernelspec": {
   "display_name": "dev",
   "language": "python",
   "name": "python3"
  },
  "language_info": {
   "codemirror_mode": {
    "name": "ipython",
    "version": 3
   },
   "file_extension": ".py",
   "mimetype": "text/x-python",
   "name": "python",
   "nbconvert_exporter": "python",
   "pygments_lexer": "ipython3",
   "version": "3.10.11"
  }
 },
 "nbformat": 4,
 "nbformat_minor": 2
}
